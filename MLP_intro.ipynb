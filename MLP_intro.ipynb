{
 "cells": [
  {
   "cell_type": "markdown",
   "metadata": {
    "id": "K0uIUz4REC88"
   },
   "source": [
    "# Load MLatom"
   ]
  },
  {
   "cell_type": "code",
   "execution_count": null,
   "metadata": {
    "id": "n35nnL60xUK5"
   },
   "outputs": [],
   "source": [
    "# Clone the repository and install the necessary packages\n",
    "!git clone https://github.com/JakubMartinka/karlsruhe2024.git\n",
    "!pip3 install mlatom\n",
    "!pip3 install py3Dmol\n",
    "!pip3 install mkl\n",
    "!pip3 install mkl-service\n",
    "!pip3 install ase"
   ]
  },
  {
   "cell_type": "code",
   "execution_count": null,
   "metadata": {
    "id": "dTCmnjpvdV0i"
   },
   "outputs": [],
   "source": [
    "import mlatom as ml"
   ]
  },
  {
   "cell_type": "markdown",
   "metadata": {
    "id": "RhU86mUkvRiU"
   },
   "source": [
    "# Train and use models for hydrogen molecule"
   ]
  },
  {
   "cell_type": "markdown",
   "metadata": {
    "id": "_Pn1XsHTDTLW"
   },
   "source": [
    "## KREG"
   ]
  },
  {
   "cell_type": "code",
   "execution_count": null,
   "metadata": {
    "id": "n0Lca9T5xR7Z"
   },
   "outputs": [],
   "source": [
    "# load data set\n",
    "molDB = ml.data.molecular_database.from_xyz_file('karlsruhe2024/materials/h2.xyz')\n",
    "molDB.add_scalar_properties_from_file('karlsruhe2024/materials/E_FCI_451.dat', 'energy')"
   ]
  },
  {
   "cell_type": "code",
   "execution_count": null,
   "metadata": {
    "id": "DS40FPlrxR7b"
   },
   "outputs": [],
   "source": [
    "# check visually the data set if you want (rotate the H2 molecule or you will see just the top atom)\n",
    "molDB.view()"
   ]
  },
  {
   "cell_type": "code",
   "execution_count": null,
   "metadata": {
    "id": "itZscEUexR7c"
   },
   "outputs": [],
   "source": [
    "# define the model\n",
    "model = ml.models.kreg(model_file='energies')"
   ]
  },
  {
   "cell_type": "code",
   "execution_count": null,
   "metadata": {
    "id": "i9-03kLgxR7d"
   },
   "outputs": [],
   "source": [
    "# split data set for optimizing hyperparameters\n",
    "subtraining_molDB, validation_molDB = molDB.split(fraction_of_points_in_splits=[0.8, 0.2], sampling='random')"
   ]
  },
  {
   "cell_type": "code",
   "execution_count": null,
   "metadata": {
    "id": "Dt3XfZsCxR7f"
   },
   "outputs": [],
   "source": [
    "# optimize hyperparameters\n",
    "import time\n",
    "start = time.time()\n",
    "model.hyperparameters[\"sigma\"].minval = 2**-4\n",
    "model.optimize_hyperparameters(subtraining_molecular_database=subtraining_molDB,\n",
    "                                     validation_molecular_database=validation_molDB,\n",
    "                                     optimization_algorithm='nelder-mead',\n",
    "                                     hyperparameters=['lambda', 'sigma'],\n",
    "                                     training_kwargs={'property_to_learn': 'energy'},\n",
    "                                     prediction_kwargs=None)\n",
    "lmbd = model.hyperparameters['lambda'].value\n",
    "sigma = model.hyperparameters['sigma'].value\n",
    "print(f'Optimized hyperparameters: lambda={lmbd}, sigma={sigma}')\n",
    "\n",
    "# train the final model\n",
    "model.train(molecular_database=molDB, property_to_learn='energy')\n",
    "end = time.time()"
   ]
  },
  {
   "cell_type": "code",
   "execution_count": null,
   "metadata": {
    "id": "6LTJ9DX7xR7g"
   },
   "outputs": [],
   "source": [
    "print(f'Training time: {end - start} s')"
   ]
  },
  {
   "cell_type": "code",
   "execution_count": null,
   "metadata": {
    "id": "SySg5dDGxR7i"
   },
   "outputs": [],
   "source": [
    "# initial geometry\n",
    "mol = ml.data.molecule.from_xyz_string('''2\n",
    "\n",
    "H             0.0000000000000           0.0000000000000           0.0000000000000\n",
    "H             0.0000000000000           0.0000000000000           0.8000000000000\n",
    "''')"
   ]
  },
  {
   "cell_type": "code",
   "execution_count": null,
   "metadata": {
    "id": "s-mD2Y53xR7j"
   },
   "outputs": [],
   "source": [
    "# you can load the model later too (no need if you trained it before)\n",
    "model = ml.models.kreg(model_file='energies')"
   ]
  },
  {
   "cell_type": "code",
   "execution_count": null,
   "metadata": {
    "id": "ayYmTZHkxR7k"
   },
   "outputs": [],
   "source": [
    "# run geometry optimization\n",
    "ml.optimize_geometry(model=model, molecule=mol, program='ASE')\n",
    "print(mol.get_xyz_string())"
   ]
  },
  {
   "cell_type": "code",
   "execution_count": null,
   "metadata": {
    "id": "Rh20Y0juxR7l"
   },
   "outputs": [],
   "source": [
    "# let's see what is the final bond length of H2\n",
    "Rkreg = mol.internuclear_distance(0, 1)\n",
    "print(f'H2 bond length is {Rkreg} Angstrom')"
   ]
  },
  {
   "cell_type": "markdown",
   "metadata": {
    "id": "WA2-Eb0hDZ8I"
   },
   "source": [
    "## TorchANI"
   ]
  },
  {
   "cell_type": "code",
   "execution_count": null,
   "metadata": {
    "id": "2fJPBvs_C3Wb"
   },
   "outputs": [],
   "source": [
    "# let's do the same but with ANI"
   ]
  },
  {
   "cell_type": "code",
   "execution_count": null,
   "metadata": {
    "id": "aUH7IBD_xR7m"
   },
   "outputs": [],
   "source": [
    "# define the model\n",
    "ani = ml.models.ani(model_file='energies_ani_api.pt', hyperparameters={'max_epochs': 200})\n",
    "\n",
    "# train the final model\n",
    "start = time.time()\n",
    "ani.train(molecular_database=molDB, property_to_learn='energy')\n",
    "end = time.time()"
   ]
  },
  {
   "cell_type": "code",
   "execution_count": null,
   "metadata": {
    "id": "8WpJ95sbxR7m"
   },
   "outputs": [],
   "source": [
    "print(f'Training time: {end - start} s')"
   ]
  },
  {
   "cell_type": "code",
   "execution_count": null,
   "metadata": {
    "id": "vw7no7-QxR7n"
   },
   "outputs": [],
   "source": [
    "# run geometry optimization\n",
    "# initial geometry\n",
    "molani = ml.data.molecule.from_xyz_string('''2\n",
    "\n",
    "H             0.0000000000000           0.0000000000000           0.0000000000000\n",
    "H             0.0000000000000           0.0000000000000           0.8000000000000\n",
    "''')\n",
    "ml.optimize_geometry(model=ani, molecule=molani, program='ASE')\n",
    "print(molani.get_xyz_string())"
   ]
  },
  {
   "cell_type": "code",
   "execution_count": null,
   "metadata": {
    "id": "EvSX_G44xR7n"
   },
   "outputs": [],
   "source": [
    "# let's see what is the final bond length of H2\n",
    "Rani = molani.internuclear_distance(0, 1)\n",
    "print(f'H2 bond length is {Rani} Angstrom')"
   ]
  },
  {
   "cell_type": "code",
   "execution_count": null,
   "metadata": {
    "id": "GRgSXVgWxR7n"
   },
   "outputs": [],
   "source": [
    "# difference between KREG and ANI predictions:\n",
    "Rani - Rkreg"
   ]
  },
  {
   "cell_type": "markdown",
   "metadata": {
    "id": "VjCqXKpGxR7o"
   },
   "source": [
    "# Same but with MACE"
   ]
  },
  {
   "cell_type": "code",
   "execution_count": null,
   "metadata": {
    "collapsed": true,
    "id": "dKLciVopFT4R",
    "jupyter": {
     "outputs_hidden": true
    }
   },
   "outputs": [],
   "source": [
    "# Install MACE\n",
    "!git clone https://github.com/ACEsuit/mace.git --branch v0.3.2\n",
    "!pip install ./mace"
   ]
  },
  {
   "cell_type": "code",
   "execution_count": null,
   "metadata": {
    "id": "rfjYaTYMxR7o"
   },
   "outputs": [],
   "source": [
    "# define the model\n",
    "mace = ml.models.mace(model_file='energies_mace.pt', hyperparameters={'max_num_epochs': 50})\n",
    "\n",
    "# train the final model\n",
    "start = time.time()\n",
    "mace.train(molecular_database=molDB, property_to_learn='energy')\n",
    "end = time.time()"
   ]
  },
  {
   "cell_type": "code",
   "execution_count": null,
   "metadata": {
    "id": "qO5wrdWpxR7p"
   },
   "outputs": [],
   "source": [
    "print(f'Training time: {end - start} s')"
   ]
  },
  {
   "cell_type": "code",
   "execution_count": null,
   "metadata": {
    "id": "AR6OunT2xR7p"
   },
   "outputs": [],
   "source": [
    "# run geometry optimization\n",
    "# initial geometry\n",
    "molmace = ml.data.molecule.from_xyz_string('''2\n",
    "\n",
    "H             0.0000000000000           0.0000000000000           0.0000000000000\n",
    "H             0.0000000000000           0.0000000000000           0.8000000000000\n",
    "''')\n",
    "ml.optimize_geometry(model=mace, molecule=molmace, program='ASE')\n",
    "print(molani.get_xyz_string())"
   ]
  },
  {
   "cell_type": "code",
   "execution_count": null,
   "metadata": {
    "id": "1v9Ds6dkxR7q"
   },
   "outputs": [],
   "source": [
    "# let's see what is the final bond length of H2\n",
    "Rmace = molmace.internuclear_distance(0, 1)\n",
    "print(f'H2 bond length is {Rani} Angstrom')"
   ]
  },
  {
   "cell_type": "code",
   "execution_count": null,
   "metadata": {
    "id": "JDd8PFKMxR7q"
   },
   "outputs": [],
   "source": [
    "# difference between KREG and ANI predictions:\n",
    "Rmace - Rkreg"
   ]
  }
 ],
 "metadata": {
  "colab": {
   "provenance": []
  },
  "kernelspec": {
   "display_name": "Python 3",
   "language": "python",
   "name": "python3"
  },
  "language_info": {
   "codemirror_mode": {
    "name": "ipython",
    "version": 3
   },
   "file_extension": ".py",
   "mimetype": "text/x-python",
   "name": "python",
   "nbconvert_exporter": "python",
   "pygments_lexer": "ipython3",
   "version": "3.8.5"
  }
 },
 "nbformat": 4,
 "nbformat_minor": 4
}
