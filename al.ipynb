{
  "cells": [
    {
      "cell_type": "code",
      "source": [
        "# Clone the repository and install the necessary packages\n",
        "!git clone https://github.com/JakubMartinka/karlsruhe2024.git\n",
        "!pip3 install mlatom\n",
        "!pip3 install mkl\n",
        "!pip3 install mkl-service\n",
        "!pip3 install py3Dmol\n",
        "!pip3 install geometric\n",
        "!pip3 install pyscf==2.4.0"
      ],
      "metadata": {
        "colab": {
          "base_uri": "https://localhost:8080/"
        },
        "id": "sQ0ORWnWLZd7",
        "outputId": "116166a5-a41f-44df-86e9-98f2d6456495"
      },
      "id": "sQ0ORWnWLZd7",
      "execution_count": null,
      "outputs": [
        {
          "output_type": "stream",
          "name": "stdout",
          "text": [
            "Cloning into 'karlsruhe2024'...\n",
            "remote: Enumerating objects: 95, done.\u001b[K\n",
            "remote: Counting objects: 100% (95/95), done.\u001b[K\n",
            "remote: Compressing objects: 100% (90/90), done.\u001b[K\n"
          ]
        }
      ]
    },
    {
      "cell_type": "code",
      "execution_count": null,
      "id": "22e44d2d-6987-4daa-b6a2-c5422d27b0d2",
      "metadata": {
        "id": "22e44d2d-6987-4daa-b6a2-c5422d27b0d2"
      },
      "outputs": [],
      "source": [
        "import mlatom as ml"
      ]
    },
    {
      "cell_type": "code",
      "execution_count": null,
      "id": "4b74579b-ea47-45e4-8174-6da305c6f664",
      "metadata": {
        "id": "4b74579b-ea47-45e4-8174-6da305c6f664"
      },
      "outputs": [],
      "source": [
        "# get initial structure\n",
        "h2 = ml.molecule.from_xyz_string('''2\n",
        "\n",
        "H 0 0 0\n",
        "H 0 0 0.7\n",
        "''')"
      ]
    },
    {
      "cell_type": "code",
      "execution_count": null,
      "id": "97b70cef-3541-43a3-9d97-6b93db33536a",
      "metadata": {
        "id": "97b70cef-3541-43a3-9d97-6b93db33536a"
      },
      "outputs": [],
      "source": [
        "# define the reference method\n",
        "dft = ml.models.methods(method='B3LYP/6-31G*')"
      ]
    },
    {
      "cell_type": "code",
      "execution_count": null,
      "id": "d2c7267e-4c48-427e-a1d4-14c42eb04c69",
      "metadata": {
        "id": "d2c7267e-4c48-427e-a1d4-14c42eb04c69"
      },
      "outputs": [],
      "source": [
        "# optimize geometry and calculate frequency\n",
        "#optmol = ml.optimize_geometry(\n",
        "#    model=dft,\n",
        "#    initial_molecule=h2\n",
        "#    ).optimized_molecule\n",
        "#freq = ml.freq(model=dft,vmolecule=optmol)\n",
        "\n",
        "optmol = ml.molecule.load('karlsruhe2024/materials/h2_freq.json')"
      ]
    },
    {
      "cell_type": "code",
      "execution_count": null,
      "id": "bf23832a-7b71-4abd-892d-3303f0ff12a2",
      "metadata": {
        "id": "bf23832a-7b71-4abd-892d-3303f0ff12a2"
      },
      "outputs": [],
      "source": [
        "# settings for sampling points during AL loop\n",
        "sampler_kwargs = {\n",
        "    'initcond_sampler':'wigner',\n",
        "    'initcond_sampler_kwargs':{\n",
        "        'molecule':optmol,\n",
        "        'number_of_initial_conditions':100,\n",
        "        'initial_temperature':300},\n",
        "    'maximum_propagation_time':100.0,\n",
        "    'time_step':0.5,\n",
        "    'uq_threshold':0.000001,\n",
        "}"
      ]
    },
    {
      "cell_type": "code",
      "execution_count": null,
      "id": "2db3efbc-603d-43a8-b93c-4b1b51e238aa",
      "metadata": {
        "id": "2db3efbc-603d-43a8-b93c-4b1b51e238aa"
      },
      "outputs": [],
      "source": [
        "# start active learning\n",
        "ml.al(molecule=optmol,\n",
        "      ml_model='KREG',\n",
        "      sampler = 'md',\n",
        "      sampler_kwargs=sampler_kwargs,\n",
        "      min_new_points=5,\n",
        "      reference_method=dft)"
      ]
    },
    {
      "cell_type": "code",
      "execution_count": null,
      "id": "a8e05325-1dd2-4b6f-9284-149bb5664ef5",
      "metadata": {
        "id": "a8e05325-1dd2-4b6f-9284-149bb5664ef5"
      },
      "outputs": [],
      "source": [
        "# check the final labeled database\n",
        "db = ml.molecular_database.load(filename='labeled_db.json', format='json')\n",
        "len(db)"
      ]
    },
    {
      "cell_type": "code",
      "execution_count": null,
      "id": "27f81e60-e537-462f-9a64-ba27b5751cc9",
      "metadata": {
        "id": "27f81e60-e537-462f-9a64-ba27b5751cc9"
      },
      "outputs": [],
      "source": [
        "for imol in range(len(db)):\n",
        "    print(db[imol].internuclear_distance(0, 1), db[imol].energy)"
      ]
    },
    {
      "cell_type": "code",
      "execution_count": null,
      "id": "ea683fe5-af9f-4597-9153-b138f950468c",
      "metadata": {
        "id": "ea683fe5-af9f-4597-9153-b138f950468c"
      },
      "outputs": [],
      "source": [
        "db.view()"
      ]
    },
    {
      "cell_type": "code",
      "execution_count": null,
      "id": "d7fb4d47-20df-4e78-9de4-121ec068ea06",
      "metadata": {
        "id": "d7fb4d47-20df-4e78-9de4-121ec068ea06"
      },
      "outputs": [],
      "source": []
    }
  ],
  "metadata": {
    "kernelspec": {
      "display_name": "Python 3 (ipykernel)",
      "language": "python",
      "name": "python3"
    },
    "language_info": {
      "codemirror_mode": {
        "name": "ipython",
        "version": 3
      },
      "file_extension": ".py",
      "mimetype": "text/x-python",
      "name": "python",
      "nbconvert_exporter": "python",
      "pygments_lexer": "ipython3",
      "version": "3.9.13"
    },
    "colab": {
      "provenance": []
    }
  },
  "nbformat": 4,
  "nbformat_minor": 5
}