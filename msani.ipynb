{
  "cells": [
    {
      "cell_type": "code",
      "source": [
        "# Clone the repository and install the necessary packages\n",
        "!git clone https://github.com/JakubMartinka/karlsruhe2024.git\n",
        "!pip3 install mlatom\n",
        "!pip3 install py3Dmol"
      ],
      "metadata": {
        "id": "5NeUvfsvJioj"
      },
      "id": "5NeUvfsvJioj",
      "execution_count": null,
      "outputs": []
    },
    {
      "cell_type": "code",
      "execution_count": null,
      "id": "24f5f801-df17-4df2-ac82-37fc1dd73823",
      "metadata": {
        "id": "24f5f801-df17-4df2-ac82-37fc1dd73823"
      },
      "outputs": [],
      "source": [
        "#Import MLatom as a Python package.\n",
        "import mlatom as ml"
      ]
    },
    {
      "cell_type": "code",
      "execution_count": null,
      "id": "f4f494b1-ecb0-4f9a-9cb6-0cde37bd8dfe",
      "metadata": {
        "id": "f4f494b1-ecb0-4f9a-9cb6-0cde37bd8dfe"
      },
      "outputs": [],
      "source": [
        "#First, we define a MS-ANI model\n",
        "model = ml.models.msani(model_file='fulvene_tutorial.npz',nstates=2)"
      ]
    },
    {
      "cell_type": "code",
      "execution_count": null,
      "id": "e9f432e3-c06b-4fd7-aa3f-49086490d72b",
      "metadata": {
        "id": "e9f432e3-c06b-4fd7-aa3f-49086490d72b"
      },
      "outputs": [],
      "source": [
        "#then, we load the training data as a MLatom molecular database. This is a small dataset for\n",
        "#demo purposes.\n",
        "train_data = ml.data.molecular_database.load(\"karlsruhe2024/materials/tutorial_data.json\", format=\"json\")"
      ]
    },
    {
      "cell_type": "code",
      "execution_count": null,
      "id": "ac1d383d-04f6-4a01-a41f-f6b31ff886fd",
      "metadata": {
        "scrolled": true,
        "id": "ac1d383d-04f6-4a01-a41f-f6b31ff886fd"
      },
      "outputs": [],
      "source": [
        "#Now we can train the model.\n",
        "model.train(molecular_database=train_data,\n",
        "            property_to_learn='energy',\n",
        "            xyz_derivative_property_to_learn='energy_gradients',\n",
        "            hyperparameters={'max_epochs': 100}) #100 epochs is not enough, only for demo."
      ]
    },
    {
      "cell_type": "code",
      "execution_count": null,
      "id": "e7c0c814-454e-422d-a573-b7ae5c577336",
      "metadata": {
        "id": "e7c0c814-454e-422d-a573-b7ae5c577336"
      },
      "outputs": [],
      "source": [
        "#The model can be used to make single-point predictions\n",
        "#First we need to load a fulvene molecule from .xyz\n",
        "mol = ml.data.molecule()\n",
        "mol.read_from_xyz_file('karlsruhe2024/materials/fulvene.xyz')\n",
        "mol.view()"
      ]
    },
    {
      "cell_type": "code",
      "execution_count": null,
      "id": "f6766aa9-6f95-4946-bab5-19511598bed1",
      "metadata": {
        "id": "f6766aa9-6f95-4946-bab5-19511598bed1"
      },
      "outputs": [],
      "source": [
        "#Now we can make a prediction\n",
        "model.predict(molecule=mol, nstates=2, current_state=0,\n",
        "              calculate_energy=True, calculate_energy_gradients=True)\n",
        "\n",
        "#And print the results\n",
        "for state in mol.electronic_states:\n",
        "    print(state.energy)\n",
        "gap = (mol.electronic_states[1].energy-mol.electronic_states[0].energy)*ml.constants.Hartree2eV\n",
        "print(\"The S1-S0 gap is {} eV\".format(gap))"
      ]
    },
    {
      "cell_type": "code",
      "execution_count": null,
      "id": "0a622412-701f-4bc8-9698-0a663ba8395f",
      "metadata": {
        "id": "0a622412-701f-4bc8-9698-0a663ba8395f"
      },
      "outputs": [],
      "source": [
        "#Finally, we can use the MS-ANI model to run NAMD.\n",
        "#For that we will load a model trained in the AL loop.\n",
        "model_namd = ml.models.msani(model_file='karlsruhe2024/materials/fulvene_energy_iteration_19.npz')"
      ]
    },
    {
      "cell_type": "code",
      "execution_count": null,
      "id": "a3d89dec-f58b-4e8c-957f-2958ee34e5a2",
      "metadata": {
        "id": "a3d89dec-f58b-4e8c-957f-2958ee34e5a2"
      },
      "outputs": [],
      "source": [
        "#Load an initial conditions database\n",
        "init_db = ml.data.molecular_database.load(\"karlsruhe2024/materials/init_cond_db.json\", format=\"json\")\n",
        "#And define NAMD arguments\n",
        "timemax = 60 # fs\n",
        "namd_kwargs = {\n",
        "            'model': model_namd,\n",
        "            'time_step': 0.1, # fs\n",
        "            'maximum_propagation_time': timemax,\n",
        "            'hopping_algorithm': 'LZBL',\n",
        "            'nstates': 2,\n",
        "            'reduce_kinetic_energy': True,\n",
        "            }"
      ]
    },
    {
      "cell_type": "code",
      "execution_count": null,
      "id": "8fca76e7-e0c4-4d15-b69f-7883ecc4ec51",
      "metadata": {
        "id": "8fca76e7-e0c4-4d15-b69f-7883ecc4ec51"
      },
      "outputs": [],
      "source": [
        "#And finally run the NAMD. This should take about a minute.\n",
        "dyns = ml.simulations.run_in_parallel(molecular_database=init_db[:4], task=ml.namd.surface_hopping_md, task_kwargs=namd_kwargs, create_and_keep_temp_directories=False)\n"
      ]
    },
    {
      "cell_type": "code",
      "execution_count": null,
      "id": "5e31a998-54b1-461e-8e7e-04c59a7486d5",
      "metadata": {
        "id": "5e31a998-54b1-461e-8e7e-04c59a7486d5"
      },
      "outputs": [],
      "source": [
        "#Now we can plot the results\n",
        "trajs = [d.molecular_trajectory for d in dyns]\n",
        "ml.namd.plot_population(trajectories=trajs, time_step=0.1,\n",
        "                        max_propagation_time=timemax, nstates=2)"
      ]
    },
    {
      "cell_type": "code",
      "execution_count": null,
      "id": "b2ade16a-70e1-450a-8fdc-811f5c7793b4",
      "metadata": {
        "id": "b2ade16a-70e1-450a-8fdc-811f5c7793b4"
      },
      "outputs": [],
      "source": [
        "#MLatom trajectories can be analyzed and visualized using simple Python code. An example below.\n",
        "energies = [[],[]]\n",
        "time = []\n",
        "gap = []\n",
        "for step in trajs[0].steps:\n",
        "    energies[0].append(step.molecule.electronic_states[0].energy)\n",
        "    energies[1].append(step.molecule.electronic_states[1].energy)\n",
        "    time.append(step.time)\n",
        "    gap.append(step.molecule.electronic_states[1].energy-step.molecule.electronic_states[0].energy)\n"
      ]
    },
    {
      "cell_type": "code",
      "execution_count": null,
      "id": "cdeda988-5ea0-4185-8e98-4446b377056f",
      "metadata": {
        "id": "cdeda988-5ea0-4185-8e98-4446b377056f"
      },
      "outputs": [],
      "source": [
        "import matplotlib.pyplot as plt\n",
        "import numpy as np\n",
        "plt.plot(time, np.transpose(energies))\n",
        "plt.xlabel(\"Time (fs)\")\n",
        "plt.ylabel(\"Energy (Hartree)\")\n",
        "plt.legend(['S0', 'S1'])\n"
      ]
    },
    {
      "cell_type": "code",
      "execution_count": null,
      "id": "6679c83b-3c2b-4580-98fa-5b21454480fb",
      "metadata": {
        "id": "6679c83b-3c2b-4580-98fa-5b21454480fb"
      },
      "outputs": [],
      "source": [
        "trajs[0].view()"
      ]
    }
  ],
  "metadata": {
    "kernelspec": {
      "display_name": "Python 3 (ipykernel)",
      "language": "python",
      "name": "python3"
    },
    "language_info": {
      "codemirror_mode": {
        "name": "ipython",
        "version": 3
      },
      "file_extension": ".py",
      "mimetype": "text/x-python",
      "name": "python",
      "nbconvert_exporter": "python",
      "pygments_lexer": "ipython3",
      "version": "3.9.13"
    },
    "colab": {
      "provenance": []
    }
  },
  "nbformat": 4,
  "nbformat_minor": 5
}