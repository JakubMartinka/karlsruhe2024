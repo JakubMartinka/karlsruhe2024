{
  "cells": [
    {
      "cell_type": "code",
      "source": [
        "# Clone the repository and install the necessary packages\n",
        "!git clone https://github.com/JakubMartinka/karlsruhe2024.git\n",
        "!pip3 install mlatom\n",
        "!pip3 install geometric\n",
        "!pip3 install py3Dmol"
      ],
      "metadata": {
        "id": "W-2v-WRLPFg-"
      },
      "id": "W-2v-WRLPFg-",
      "execution_count": null,
      "outputs": []
    },
    {
      "cell_type": "code",
      "execution_count": null,
      "id": "64aa60ce-422a-4237-b4f6-68b768728e7e",
      "metadata": {
        "id": "64aa60ce-422a-4237-b4f6-68b768728e7e"
      },
      "outputs": [],
      "source": [
        "import mlatom as ml"
      ]
    },
    {
      "cell_type": "markdown",
      "id": "47237837-7d5f-4af5-9faa-fa8413fb4405",
      "metadata": {
        "id": "47237837-7d5f-4af5-9faa-fa8413fb4405"
      },
      "source": [
        "# Universal ANI-1ccx MLP\n",
        "ANI-1ccx is targeting CCSD(T)/CBS - let's see how well it works.\n",
        "\n",
        "This is just for demonstration - we recommend to use UAIQM in real applications (https://xacs.xmu.edu.cn/docs/mlatom/tutorial_uaiqm.html)"
      ]
    },
    {
      "cell_type": "code",
      "execution_count": null,
      "id": "e2aee6d6-9830-442a-841a-0fa4719ab6f1",
      "metadata": {
        "id": "e2aee6d6-9830-442a-841a-0fa4719ab6f1"
      },
      "outputs": [],
      "source": [
        "ani1ccx = ml.models.methods(method='ANI-1ccx')"
      ]
    },
    {
      "cell_type": "markdown",
      "id": "80951cf2-474b-4be1-ae50-c8cfaac9600e",
      "metadata": {
        "id": "80951cf2-474b-4be1-ae50-c8cfaac9600e"
      },
      "source": [
        "## Example 1: Heat of formation\n",
        "Let's calculate the heat of formation of vinylacetylene"
      ]
    },
    {
      "cell_type": "code",
      "execution_count": null,
      "id": "ea3d8332-2b29-484e-974b-0c2062c3f127",
      "metadata": {
        "id": "ea3d8332-2b29-484e-974b-0c2062c3f127"
      },
      "outputs": [],
      "source": [
        "# initial xyz geometry\n",
        "va_init = ml.molecule.from_xyz_string('''8\n",
        "\n",
        "C             0.00000     0.00000     0.00000\n",
        "C             1.33718     0.00000     0.00000\n",
        "C             2.04862     1.23465     0.00000\n",
        "C             2.65517     2.30065     0.00000\n",
        "H             3.17326     3.20500     0.00000\n",
        "H            -0.56880     0.91919     0.00000\n",
        "H            -0.56652    -0.92292    -0.00000\n",
        "H             1.95564    -0.90366     0.00000\n",
        "''')"
      ]
    },
    {
      "cell_type": "code",
      "execution_count": null,
      "id": "70ee2eb4-3364-4c3b-b052-7095953edbb0",
      "metadata": {
        "id": "70ee2eb4-3364-4c3b-b052-7095953edbb0"
      },
      "outputs": [],
      "source": [
        "# step 1 - optimize the geometry\n",
        "geomopt = ml.simulations.optimize_geometry(model=ani1ccx, initial_molecule=va_init, program='geometric')\n",
        "va_opt = geomopt.optimized_molecule\n",
        "va_opt.view()"
      ]
    },
    {
      "cell_type": "markdown",
      "source": [],
      "metadata": {
        "id": "a-1oQmTeUoZR"
      },
      "id": "a-1oQmTeUoZR"
    },
    {
      "cell_type": "code",
      "execution_count": null,
      "id": "18c97e55-6d6f-44d7-8f48-3e37c023fca1",
      "metadata": {
        "id": "18c97e55-6d6f-44d7-8f48-3e37c023fca1"
      },
      "outputs": [],
      "source": [
        "# step 2 - run frequency and thermochemistry calculations\n",
        "va_freq = ml.molecule.from_numpy(va_opt.get_xyz_coordinates(), va_opt.get_atomic_numbers())\n",
        "ml.simulations.thermochemistry(model=ani1ccx, molecule=va_freq, program='pyscf')"
      ]
    },
    {
      "cell_type": "code",
      "execution_count": null,
      "id": "fe83cc61-3f72-40c5-a237-6941635a42cd",
      "metadata": {
        "id": "fe83cc61-3f72-40c5-a237-6941635a42cd"
      },
      "outputs": [],
      "source": [
        "# Check vibration analysis\n",
        "print(\"Mode     Frequencies     Reduced masses     Force Constants\")\n",
        "print(\"           (cm^-1)            (AMU)           (mDyne/A)\")\n",
        "for ii in range(len(va_freq.frequencies)):\n",
        "    print(\"%d   %13.4f   %13.4f   %13.4f\"%(ii,va_freq.frequencies[ii],va_freq.reduced_masses[ii],va_freq.force_constants[ii]))\n",
        "\n",
        "# Check thermochemistry results\n",
        "print('')\n",
        "print(f\"Zero-point vibrational energy: {va_freq.ZPE} Hartree\")\n",
        "print(f\"Enthalpy at 298 K: {va_freq.H} Hartree\")\n",
        "print(f\"Gibbs Free energy at 298 K: {va_freq.G} Hartree\")\n",
        "print(f\"Heat of formation at 298 K: {va_freq.DeltaHf298 * ml.constants.Hartree2kcalpermol} kcal/mol\")"
      ]
    },
    {
      "cell_type": "code",
      "execution_count": null,
      "id": "fc856a19-f7d0-418a-8e69-8f2186ccf57e",
      "metadata": {
        "id": "fc856a19-f7d0-418a-8e69-8f2186ccf57e"
      },
      "outputs": [],
      "source": [
        "# check the uncertainty (UQ threshold is 1.68 kcal/mol)\n",
        "va_freq.ani1ccx.energy_standard_deviation * ml.constants.Hartree2kcalpermol"
      ]
    },
    {
      "cell_type": "code",
      "execution_count": null,
      "id": "696f78d1-a894-46b5-8124-ef4d7f82cba2",
      "metadata": {
        "id": "696f78d1-a894-46b5-8124-ef4d7f82cba2"
      },
      "outputs": [],
      "source": [
        "# let's view the first vibrational normal mode\n",
        "va_freq.view(normal_mode=0)"
      ]
    },
    {
      "cell_type": "markdown",
      "id": "2ba423f9-d949-4843-a151-ccadb9847d0d",
      "metadata": {
        "id": "2ba423f9-d949-4843-a151-ccadb9847d0d"
      },
      "source": [
        "## Example 2: MD\n",
        "Let's do MD of the boring hydrogen molecule H2"
      ]
    },
    {
      "cell_type": "code",
      "execution_count": null,
      "id": "fedc636b-40ce-43c8-a0bc-0f88ed955166",
      "metadata": {
        "id": "fedc636b-40ce-43c8-a0bc-0f88ed955166"
      },
      "outputs": [],
      "source": [
        "# use random initial conditions\n",
        "mol = ml.data.molecule.from_xyz_string('''2\n",
        "\n",
        "H             0.0000000000000           0.0000000000000           0.0000000000000\n",
        "H             0.0000000000000           0.0000000000000           0.8000000000000\n",
        "''')\n",
        "init_cond_db = ml.generate_initial_conditions(molecule=mol,\n",
        "                                                generation_method='random',\n",
        "                                                initial_temperature=300,           # set initial temperature in K,\n",
        "                                                number_of_initial_conditions=1     # we just want to run a single trajectory\n",
        "                                             )\n",
        "init_mol = init_cond_db[0]"
      ]
    },
    {
      "cell_type": "code",
      "execution_count": null,
      "id": "4d1c5f28-f45c-4b00-9e35-032b6b6086b7",
      "metadata": {
        "id": "4d1c5f28-f45c-4b00-9e35-032b6b6086b7"
      },
      "outputs": [],
      "source": [
        "# Initializing thermostat\n",
        "nose_hoover = ml.md.Nose_Hoover_thermostat(temperature=300, molecule=init_mol)\n",
        "\n",
        "# Run molecular dynamics\n",
        "dyn = ml.md(model=ani1ccx,\n",
        "            molecule_with_initial_conditions=init_mol,\n",
        "            thermostat=nose_hoover,\n",
        "            ensemble='NVT',\n",
        "            time_step=0.5, # fs\n",
        "            maximum_propagation_time=100.0 # fs\n",
        "           )\n",
        "\n",
        "# Dump trajectory\n",
        "traj = dyn.molecular_trajectory\n",
        "traj.dump(filename='traj', format='plain_text')\n",
        "traj.dump(filename='traj.h5', format='h5md')\n",
        "\n",
        "print(f\"Number of steps in the trajectory: {len(traj.steps)}\")"
      ]
    },
    {
      "cell_type": "code",
      "execution_count": null,
      "id": "0aed6b6e-5550-4688-a29f-2775e874f85b",
      "metadata": {
        "id": "0aed6b6e-5550-4688-a29f-2775e874f85b"
      },
      "outputs": [],
      "source": [
        "traj.view()"
      ]
    },
    {
      "cell_type": "code",
      "execution_count": null,
      "id": "a0c3cdad-18d3-491b-af14-fd4ca6b7209b",
      "metadata": {
        "id": "a0c3cdad-18d3-491b-af14-fd4ca6b7209b"
      },
      "outputs": [],
      "source": [
        "for step in traj.steps:\n",
        "    print(f'{step.step:3d}  {step.time:8.2f}   {step.molecule.internuclear_distance(0, 1):8.2f} {step.molecule.atoms[1].xyz_coordinates[2] - step.molecule.atoms[0].xyz_coordinates[2]:8.2f}')"
      ]
    }
  ],
  "metadata": {
    "kernelspec": {
      "display_name": "Python 3 (ipykernel)",
      "language": "python",
      "name": "python3"
    },
    "language_info": {
      "codemirror_mode": {
        "name": "ipython",
        "version": 3
      },
      "file_extension": ".py",
      "mimetype": "text/x-python",
      "name": "python",
      "nbconvert_exporter": "python",
      "pygments_lexer": "ipython3",
      "version": "3.9.13"
    },
    "colab": {
      "provenance": []
    }
  },
  "nbformat": 4,
  "nbformat_minor": 5
}