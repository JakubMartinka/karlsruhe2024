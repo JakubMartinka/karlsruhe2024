{
  "cells": [
    {
      "cell_type": "code",
      "source": [
        "# Clone the repository and install the necessary packages\n",
        "!git clone https://github.com/JakubMartinka/karlsruhe2024.git\n",
        "!pip3 install mlatom\n",
        "!pip3 install pyscf"
      ],
      "metadata": {
        "id": "TRd7Li3CHFLC"
      },
      "execution_count": null,
      "outputs": []
    },
    {
      "cell_type": "code",
      "execution_count": null,
      "metadata": {
        "id": "SFUmIsO6HDEv"
      },
      "outputs": [],
      "source": [
        "import mlatom as ml\n",
        "import numpy as np\n",
        "import matplotlib.pyplot as plt"
      ]
    },
    {
      "cell_type": "code",
      "execution_count": null,
      "metadata": {
        "id": "7ea8vdr1HDEw"
      },
      "outputs": [],
      "source": [
        "# prepare H2 geometries with bond lengths ranging from 0.5 to 5.0 Å\n",
        "xyz = np.zeros((451, 2, 3))\n",
        "xyz[:, 1, 2] = np.arange(0.5, 5.01, 0.01)\n",
        "z = np.ones((451, 2)).astype(int)\n",
        "molDB = ml.molecular_database.from_numpy(coordinates=xyz, species=z)"
      ]
    },
    {
      "cell_type": "code",
      "execution_count": null,
      "metadata": {
        "id": "TuGPKCnXHDEx"
      },
      "outputs": [],
      "source": [
        "# calculate HF energies\n",
        "hf = ml.models.methods(method='HF/STO-3G', program='PySCF')\n",
        "hf.predict(molecular_database=molDB, calculate_energy=True)\n",
        "molDB.add_scalar_properties(molDB.get_properties('energy'), 'HF_energy') # save HF energy with a new name"
      ]
    },
    {
      "cell_type": "code",
      "execution_count": null,
      "metadata": {
        "id": "BGUYj2cEHDEy"
      },
      "outputs": [],
      "source": [
        "# calculate CISD energies\n",
        "cisd = ml.models.methods(method='CISD/cc-pVDZ', program='PySCF')\n",
        "cisd.predict(molecular_database=molDB, calculate_energy=True)\n",
        "molDB.add_scalar_properties(molDB.get_properties('energy'), 'CISD_energy')"
      ]
    },
    {
      "cell_type": "code",
      "execution_count": null,
      "metadata": {
        "id": "6A3MtXc5HDEy"
      },
      "outputs": [],
      "source": [
        "# plot the energies\n",
        "plt.plot(xyz[:, 1, 2], molDB.get_properties('HF_energy'), label='HF/STO-3G')\n",
        "plt.plot(xyz[:, 1, 2], molDB.get_properties('CISD_energy'), label='CISD/cc-pVDZ')\n",
        "plt.legend()\n",
        "plt.xlabel('H-H bond length (Å)')\n",
        "plt.ylabel('energy (hartree)')\n",
        "plt.show()"
      ]
    },
    {
      "cell_type": "code",
      "execution_count": null,
      "metadata": {
        "id": "8VH_vXT3HDEz"
      },
      "outputs": [],
      "source": [
        "# train ANI model with HF energies\n",
        "! rm ANI-HF.pt &> /dev/null\n",
        "ani = ml.models.ani(model_file='ANI-HF.pt', verbose=False)\n",
        "ani.train(molecular_database=molDB, property_to_learn='HF_energy')\n",
        "# predict with trained ANI model\n",
        "ani.predict(molecular_database=molDB, property_to_predict='ANI_HF_energy')"
      ]
    },
    {
      "cell_type": "code",
      "execution_count": null,
      "metadata": {
        "id": "_yY7IqeRHDEz"
      },
      "outputs": [],
      "source": [
        "# show the model structure\n",
        "ani.model\n"
      ]
    },
    {
      "cell_type": "code",
      "execution_count": null,
      "metadata": {
        "id": "XU-ZIXfsHDE0"
      },
      "outputs": [],
      "source": [
        "# fix some of the layers\n",
        "! cp ANI-HF.pt ANI-HF-TL.pt\n",
        "ani = ml.models.ani(model_file='ANI-HF-TL.pt', verbose=False)\n",
        "ani.fix_layers([[0, 6]])\n",
        "# transfer leaning with every 40th of the data\n",
        "step = 40\n",
        "val = molDB[::step][::10]\n",
        "sub = ml.molecular_database([mol for mol in molDB[::step] if mol not in val])\n",
        "ani.energy_shifter.self_energies = None # let the model recalculate the self atomic energies\n",
        "ani.train(molecular_database=sub, validation_molecular_database=val, property_to_learn='CISD_energy', hyperparameters={'learning_rate': 0.0001}, reset_optimizer=True)\n",
        "# predict with TL model\n",
        "ani.predict(molecular_database=molDB, property_to_predict='ANI_TL_energy')"
      ]
    },
    {
      "cell_type": "code",
      "execution_count": null,
      "metadata": {
        "id": "1N7QCtggHDE1"
      },
      "outputs": [],
      "source": [
        "# train ANI model with CISD energies directly\n",
        "! rm ANI_CISD.pt &> /dev/null\n",
        "ani_cisd = ml.models.ani(model_file='ANI_CISD.pt', verbose=False)\n",
        "ani_cisd.train(molecular_database=sub, validation_molecular_database=val, property_to_learn='CISD_energy')\n",
        "# predict with trained ANI model\n",
        "ani_cisd.predict(molecular_database=molDB, property_to_predict='ANI_CISD_energy')"
      ]
    },
    {
      "cell_type": "code",
      "execution_count": null,
      "metadata": {
        "id": "WU1etlHPHDE2"
      },
      "outputs": [],
      "source": [
        "# plot the energies\n",
        "plt.plot(xyz[:, 1, 2], molDB.get_properties('HF_energy'), label='HF/STO-3G')\n",
        "plt.plot(xyz[:, 1, 2], molDB.get_properties('CISD_energy'), label='CISD/cc-pVDZ')\n",
        "plt.plot(xyz[:, 1, 2], molDB.get_properties('ANI_HF_energy'), label='ANI-HF')\n",
        "plt.plot(xyz[:, 1, 2], molDB.get_properties('ANI_TL_energy'), label='ANI-TL')\n",
        "plt.plot(xyz[:, 1, 2], molDB.get_properties('ANI_CISD_energy'), label='ANI-CISD')\n",
        "plt.plot(sub.xyz_coordinates[:, 1, 2], sub.get_properties('CISD_energy'), 'o', label='TL subtraining')\n",
        "plt.plot(val.xyz_coordinates[:, 1, 2], val.get_properties('CISD_energy'), 'o', label='TL validation')\n",
        "plt.legend()\n",
        "plt.xlabel('H-H bond length (Å)')\n",
        "plt.ylabel('energy (hartree)')\n",
        "plt.show()"
      ]
    },
    {
      "cell_type": "code",
      "execution_count": null,
      "metadata": {
        "id": "u27uGQyLHDE3"
      },
      "outputs": [],
      "source": []
    }
  ],
  "metadata": {
    "kernelspec": {
      "display_name": "Python 3 (ipykernel)",
      "language": "python",
      "name": "python3"
    },
    "language_info": {
      "codemirror_mode": {
        "name": "ipython",
        "version": 3
      },
      "file_extension": ".py",
      "mimetype": "text/x-python",
      "name": "python",
      "nbconvert_exporter": "python",
      "pygments_lexer": "ipython3",
      "version": "3.9.13"
    },
    "colab": {
      "provenance": []
    }
  },
  "nbformat": 4,
  "nbformat_minor": 0
}