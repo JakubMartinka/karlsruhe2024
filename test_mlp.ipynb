{
  "cells": [
    {
      "cell_type": "code",
      "source": [
        "# Clone the repository and install the necessary packages\n",
        "!git clone https://github.com/JakubMartinka/karlsruhe2024.git\n",
        "!pip3 install mlatom\n",
        "!pip3 install pyscf\n",
        "!pip3 install mkl\n",
        "!pip3 install mkl-service"
      ],
      "metadata": {
        "id": "_YYJyxbi6Q0Q"
      },
      "id": "_YYJyxbi6Q0Q",
      "execution_count": null,
      "outputs": []
    },
    {
      "cell_type": "code",
      "execution_count": null,
      "id": "18e60f6c-9dac-44d4-ac8e-6cdb51f41aca",
      "metadata": {
        "id": "18e60f6c-9dac-44d4-ac8e-6cdb51f41aca"
      },
      "outputs": [],
      "source": [
        "import mlatom as ml\n",
        "import numpy as np\n",
        "import matplotlib.pyplot as plt"
      ]
    },
    {
      "cell_type": "code",
      "execution_count": null,
      "id": "749b662e-c526-48dc-989e-e15b12752834",
      "metadata": {
        "id": "749b662e-c526-48dc-989e-e15b12752834"
      },
      "outputs": [],
      "source": [
        "# prepare H2 geometries with bond lengths ranging from 0.5 to 5.0 Å\n",
        "xyz = np.zeros((451, 2, 3))\n",
        "xyz[:, 1, 2] = np.arange(0.5, 5.01, 0.01)\n",
        "z = np.ones((451, 2)).astype(int)\n",
        "molDB = ml.molecular_database.from_numpy(coordinates=xyz, species=z)"
      ]
    },
    {
      "cell_type": "code",
      "execution_count": null,
      "id": "e933df31-cf44-4150-92ae-489fdcb57383",
      "metadata": {
        "id": "e933df31-cf44-4150-92ae-489fdcb57383"
      },
      "outputs": [],
      "source": [
        "# calculate HF energies\n",
        "hf = ml.models.methods(method='HF/STO-3G', program='PySCF')\n",
        "hf.predict(molecular_database=molDB, calculate_energy=True, calculate_energy_gradients=True)"
      ]
    },
    {
      "cell_type": "code",
      "execution_count": null,
      "id": "c3246c62-3417-49a3-a6c2-fc593e7087d8",
      "metadata": {
        "id": "c3246c62-3417-49a3-a6c2-fc593e7087d8"
      },
      "outputs": [],
      "source": [
        "Ntrain = 100\n",
        "trainDB, testDB = molDB.split(sampling='random', number_of_splits=2, fraction_of_points_in_splits=[Ntrain/451, 1-Ntrain/451])"
      ]
    },
    {
      "cell_type": "code",
      "execution_count": null,
      "id": "b7cb28f1-9347-4935-8dd6-d75038d07b0b",
      "metadata": {
        "id": "b7cb28f1-9347-4935-8dd6-d75038d07b0b"
      },
      "outputs": [],
      "source": [
        "subtrainDB, valDB = trainDB.split(sampling='random', number_of_splits=2, fraction_of_points_in_splits=[0.9, 0.1])"
      ]
    },
    {
      "cell_type": "code",
      "execution_count": null,
      "id": "2727b405-c7a8-4c71-bb1a-7e19344a3acf",
      "metadata": {
        "id": "2727b405-c7a8-4c71-bb1a-7e19344a3acf"
      },
      "outputs": [],
      "source": [
        "len(valDB)"
      ]
    },
    {
      "cell_type": "code",
      "execution_count": null,
      "id": "480148c9-afb2-4722-8c8e-ed125cea6745",
      "metadata": {
        "id": "480148c9-afb2-4722-8c8e-ed125cea6745"
      },
      "outputs": [],
      "source": [
        "# setup the KREG model\n",
        "kreg = ml.models.kreg(model_file='KREG.npz', ml_program='KREG_API')\n",
        "# optimize its hyperparameters\n",
        "kreg.hyperparameters['sigma'].minval = 2**-5 # modify the default lower bound of the hyperparameter sigma\n",
        "kreg.optimize_hyperparameters(subtraining_molecular_database=subtrainDB,\n",
        "                              validation_molecular_database=valDB,\n",
        "                              optimization_algorithm='grid',\n",
        "                              hyperparameters=['lambda', 'sigma'],\n",
        "                              training_kwargs={'property_to_learn': 'energy'},\n",
        "                              prediction_kwargs={'property_to_predict': 'estimated_energy'})\n",
        "lmbd = kreg.hyperparameters['lambda'].value ; sigma=kreg.hyperparameters['sigma'].value\n",
        "valloss = kreg.validation_loss\n",
        "print('Optimized sigma:', sigma)\n",
        "print('Optimized lambda:', lmbd)\n",
        "print('Optimized validation loss:', valloss)\n",
        "# Train the model with the optimized hyperparameters to dump it to disk.\n",
        "kreg.train(molecular_database=subtrainDB, property_to_learn='energy')"
      ]
    },
    {
      "cell_type": "code",
      "execution_count": null,
      "id": "352ba71a-e44e-4413-abb3-9526f7ce079e",
      "metadata": {
        "id": "352ba71a-e44e-4413-abb3-9526f7ce079e"
      },
      "outputs": [],
      "source": [
        "# predict with the energy-only KREG model\n",
        "kreg.predict(molecular_database=molDB, property_to_predict='estimated_energy', xyz_derivative_property_to_predict='estimated_gradients')"
      ]
    },
    {
      "cell_type": "code",
      "execution_count": null,
      "id": "621d6f4b-47e5-4894-851d-f5f1f9603ec8",
      "metadata": {
        "id": "621d6f4b-47e5-4894-851d-f5f1f9603ec8"
      },
      "outputs": [],
      "source": [
        "testRMSE_E = ml.stats.rmse(testDB.get_properties('energy'), testDB.get_properties('estimated_energy'))*ml.constants.Hartree2kcalpermol\n",
        "testRMSE_F = ml.stats.rmse(testDB.get_xyz_vectorial_properties('energy_gradients').flatten(), testDB.get_xyz_vectorial_properties('estimated_gradients').flatten())*ml.constants.Hartree2kcalpermol"
      ]
    },
    {
      "cell_type": "code",
      "execution_count": null,
      "id": "4be3e740-1691-405d-8223-29ffe75ff8ea",
      "metadata": {
        "id": "4be3e740-1691-405d-8223-29ffe75ff8ea"
      },
      "outputs": [],
      "source": [
        "print(f'Test RMSE for energies: {testRMSE_E} Hartree')\n",
        "print(f'Test RMSE for forces: {testRMSE_F} Hartree/Angstrom')"
      ]
    },
    {
      "cell_type": "code",
      "execution_count": null,
      "id": "126b47db-e7d8-4aa2-80d8-c5a57ca2b0af",
      "metadata": {
        "id": "126b47db-e7d8-4aa2-80d8-c5a57ca2b0af"
      },
      "outputs": [],
      "source": [
        "values = testDB.get_properties('energy')\n",
        "estimated_values = testDB.get_properties('estimated_energy')"
      ]
    },
    {
      "cell_type": "code",
      "execution_count": null,
      "id": "dc6133e5-fdb9-4c94-944d-d5379f9b3f3c",
      "metadata": {
        "id": "dc6133e5-fdb9-4c94-944d-d5379f9b3f3c"
      },
      "outputs": [],
      "source": [
        "fig,ax = plt.subplots()\n",
        "fig.set_size_inches(15,12)\n",
        "diagonal_line = [min([min(values),min(estimated_values)]),max([max(values),max(estimated_values)])]\n",
        "ax.plot(diagonal_line,diagonal_line,color='C3')\n",
        "#ax.scatter(values[0:Nsubtrain],estimated_values[0:Nsubtrain],color='C0',label='subtraining points')\n",
        "#ax.scatter(values[Nsubtrain:Ntrain],estimated_values[Nsubtrain:Ntrain],color='C1',label='validation points')\n",
        "ax.scatter(values,estimated_values,color='C0',label='test points')\n",
        "ax.set_xlabel(f'Energy (Hartree)')\n",
        "ax.set_ylabel(f'Estimated energy (Hartree)')\n",
        "plt.suptitle(f'MLP model (energies)')\n",
        "plt.legend()"
      ]
    },
    {
      "cell_type": "markdown",
      "id": "43fdb797-aa1f-4637-9495-a5edf9f55416",
      "metadata": {
        "id": "43fdb797-aa1f-4637-9495-a5edf9f55416"
      },
      "source": [
        "# Train with forces"
      ]
    },
    {
      "cell_type": "code",
      "execution_count": null,
      "id": "e2d39c46-b0c5-4f67-9bc0-3e922d853ba0",
      "metadata": {
        "id": "e2d39c46-b0c5-4f67-9bc0-3e922d853ba0"
      },
      "outputs": [],
      "source": [
        "# setup the KREG model\n",
        "kreg_engrad = ml.models.kreg(model_file='KREG_engrad.npz', ml_program='KREG_API')\n",
        "# optimize its hyperparameters\n",
        "kreg_engrad.hyperparameters['sigma'].minval = 2**-5 # modify the default lower bound of the hyperparameter sigma\n",
        "kreg_engrad.optimize_hyperparameters(subtraining_molecular_database=subtrainDB,\n",
        "                              validation_molecular_database=valDB,\n",
        "                              optimization_algorithm='grid',\n",
        "                              hyperparameters=['lambda', 'sigma'],\n",
        "                              training_kwargs={'property_to_learn': 'energy', 'xyz_derivative_property_to_learn': 'energy_gradients'},\n",
        "                              prediction_kwargs={'property_to_predict': 'estimated_energy',\n",
        "                                                 'xyz_derivative_property_to_predict': 'estimated_gradients'})\n",
        "lmbd = kreg_engrad.hyperparameters['lambda'].value ; sigma=kreg_engrad.hyperparameters['sigma'].value\n",
        "valloss = kreg_engrad.validation_loss\n",
        "print('Optimized sigma:', sigma)\n",
        "print('Optimized lambda:', lmbd)\n",
        "print('Optimized validation loss:', valloss)\n",
        "# Train the model with the optimized hyperparameters to dump it to disk.\n",
        "kreg_engrad.train(molecular_database=subtrainDB, property_to_learn='energy', xyz_derivative_property_to_learn='energy_gradients')"
      ]
    },
    {
      "cell_type": "code",
      "execution_count": null,
      "id": "2473d71e-c3ff-4e9d-ab6a-a9ef29f8ab9a",
      "metadata": {
        "id": "2473d71e-c3ff-4e9d-ab6a-a9ef29f8ab9a"
      },
      "outputs": [],
      "source": [
        "# predict with the energy & gradients KREG model\n",
        "kreg_engrad.predict(molecular_database=molDB, property_to_predict='estimated_energy', xyz_derivative_property_to_predict='estimated_gradients')"
      ]
    },
    {
      "cell_type": "code",
      "execution_count": null,
      "id": "d3c8a0b5-3a42-4a46-8eba-27f61d776c2e",
      "metadata": {
        "id": "d3c8a0b5-3a42-4a46-8eba-27f61d776c2e"
      },
      "outputs": [],
      "source": [
        "testRMSE_E = ml.stats.rmse(testDB.get_properties('energy'), testDB.get_properties('estimated_energy'))*ml.constants.Hartree2kcalpermol\n",
        "testRMSE_F = ml.stats.rmse(testDB.get_xyz_vectorial_properties('energy_gradients').flatten(), testDB.get_xyz_vectorial_properties('estimated_gradients').flatten())*ml.constants.Hartree2kcalpermol\n",
        "print(f'Test RMSE for energies: {testRMSE_E} Hartree')\n",
        "print(f'Test RMSE for forces: {testRMSE_F} Hartree/Angstrom')"
      ]
    },
    {
      "cell_type": "code",
      "execution_count": null,
      "id": "05b7a12e-c138-4cc1-ab24-aa6316a7634a",
      "metadata": {
        "id": "05b7a12e-c138-4cc1-ab24-aa6316a7634a"
      },
      "outputs": [],
      "source": [
        "values = testDB.get_properties('energy')\n",
        "estimated_values = testDB.get_properties('estimated_energy')\n",
        "fig,ax = plt.subplots()\n",
        "fig.set_size_inches(15,12)\n",
        "diagonal_line = [min([min(values),min(estimated_values)]),max([max(values),max(estimated_values)])]\n",
        "ax.plot(diagonal_line,diagonal_line,color='C3')\n",
        "#ax.scatter(values[0:Nsubtrain],estimated_values[0:Nsubtrain],color='C0',label='subtraining points')\n",
        "#ax.scatter(values[Nsubtrain:Ntrain],estimated_values[Nsubtrain:Ntrain],color='C1',label='validation points')\n",
        "ax.scatter(values,estimated_values,color='C0',label='test points')\n",
        "ax.set_xlabel(f'Energy (Hartree)')\n",
        "ax.set_ylabel(f'Estimated energy (Hartree)')\n",
        "plt.suptitle(f'MLP model (energies)')\n",
        "plt.legend()"
      ]
    },
    {
      "cell_type": "code",
      "execution_count": null,
      "id": "4fcec862-b582-404d-a744-af02e0094982",
      "metadata": {
        "id": "4fcec862-b582-404d-a744-af02e0094982"
      },
      "outputs": [],
      "source": [
        "plot = ml.plot.plot()\n",
        "%matplotlib inline\n",
        "#plot.savein='h2_pec.png'\n",
        "plot.plottype='linechart_without_points'\n",
        "xref = [mol.atoms[1].xyz_coordinates[2] for mol in molDB.molecules]\n",
        "yref = [mol.energy for mol in molDB.molecules]\n",
        "plot.xs.append(xref)\n",
        "plot.ys.append(yref)\n",
        "plot.labels.append('reference') ; plot.colors.append('k') ; plot.linewidths.append(2) ; plot.markers.append('')\n",
        "xlabeled = [mol.atoms[1].xyz_coordinates[2] for mol in trainDB.molecules]\n",
        "ylabeled = [mol.energy for mol in trainDB.molecules]\n",
        "plot.xs.append(xlabeled)\n",
        "plot.ys.append(ylabeled)\n",
        "plot.labels.append('labels') ; plot.colors.append('k') ; plot.linewidths.append(0) ; plot.markers.append('o')\n",
        "xest = [mol.atoms[1].xyz_coordinates[2] for mol in molDB.molecules]\n",
        "yest = [mol.estimated_energy for mol in molDB.molecules]\n",
        "plot.xs.append(xest)\n",
        "plot.ys.append(yest)\n",
        "plot.labels.append('MLP') ; plot.colors.append('r') ; plot.linewidths.append(2) ; plot.markers.append('')\n",
        "plot.xaxis_caption = '$R_{H-H}$, $\\AA$'\n",
        "plot.yaxis_caption = 'Energy, Hartree'\n",
        "plot.make_figure()"
      ]
    }
  ],
  "metadata": {
    "kernelspec": {
      "display_name": "Python 3 (ipykernel)",
      "language": "python",
      "name": "python3"
    },
    "language_info": {
      "codemirror_mode": {
        "name": "ipython",
        "version": 3
      },
      "file_extension": ".py",
      "mimetype": "text/x-python",
      "name": "python",
      "nbconvert_exporter": "python",
      "pygments_lexer": "ipython3",
      "version": "3.9.13"
    },
    "colab": {
      "provenance": []
    }
  },
  "nbformat": 4,
  "nbformat_minor": 5
}