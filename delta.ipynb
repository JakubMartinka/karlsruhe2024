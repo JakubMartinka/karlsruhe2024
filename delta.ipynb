{
  "cells": [
    {
      "cell_type": "code",
      "source": [
        "# Clone the repository and install the necessary packages\n",
        "!git clone https://github.com/JakubMartinka/karlsruhe2024.git\n",
        "!pip3 install mlatom\n",
        "!pip3 install pyscf\n",
        "!pip3 install mkl\n",
        "!pip3 install mkl-service\n",
        "!pip3 install geometric"
      ],
      "metadata": {
        "id": "5h_eYA8V8B9I"
      },
      "execution_count": null,
      "outputs": []
    },
    {
      "cell_type": "markdown",
      "metadata": {
        "id": "Mg3FjhFP8AgQ"
      },
      "source": [
        "First we need to generate the energies at both baseline and target levels."
      ]
    },
    {
      "cell_type": "code",
      "execution_count": null,
      "metadata": {
        "id": "8WxQ5i5R8AgS"
      },
      "outputs": [],
      "source": [
        "import mlatom as ml\n",
        "import numpy as np\n",
        "import matplotlib.pyplot as plt\n",
        "\n",
        "# prepare H2 geometries with bond lengths ranging from 0.5 to 5.0 Å\n",
        "xyz = np.zeros((451, 2, 3))\n",
        "xyz[:, 1, 2] = np.arange(0.5, 5.01, 0.01)\n",
        "z = np.ones((451, 2)).astype(int)\n",
        "molDB = ml.molecular_database.from_numpy(coordinates=xyz, species=z)\n",
        "\n",
        "# calculate HF energies\n",
        "hf = ml.models.methods(method='HF/STO-3G', program='PySCF')\n",
        "hf.predict(molecular_database=molDB, calculate_energy=True)\n",
        "molDB.add_scalar_properties(molDB.get_properties('energy'), 'HF_energy') # save HF energy with a new name\n",
        "\n",
        "# calculate CISD energies\n",
        "cisd = ml.models.methods(method='CISD/cc-pVDZ', program='PySCF')\n",
        "cisd.predict(molecular_database=molDB, calculate_energy=True)\n",
        "molDB.add_scalar_properties(molDB.get_properties('energy'), 'FCI_energy')"
      ]
    },
    {
      "cell_type": "markdown",
      "metadata": {
        "id": "YdldDpiw8AgU"
      },
      "source": [
        "Here we use HF/STO-3G as the baseline and CISD/cc-pVDZ (FCI in our case) as the target for the geometries with H--H bond lengths ranging from 0.5 to 5.0 Å."
      ]
    },
    {
      "cell_type": "markdown",
      "metadata": {
        "id": "XOhfStDL8AgV"
      },
      "source": [
        "We need to calculate the differences between the target and baseline:"
      ]
    },
    {
      "cell_type": "code",
      "execution_count": null,
      "metadata": {
        "id": "gOSgKXTi8AgW"
      },
      "outputs": [],
      "source": [
        "molDB.add_scalar_properties(molDB.get_properties('FCI_energy') - molDB.get_properties('HF_energy'), 'delta_energy')"
      ]
    },
    {
      "cell_type": "markdown",
      "metadata": {
        "id": "mUfIAeJc8AgW"
      },
      "source": [
        "Now we can train the KREG model on the differences (basically, residual errors)just on the 12 training points (using 10 sub-training and 2 validation points)."
      ]
    },
    {
      "cell_type": "code",
      "execution_count": null,
      "metadata": {
        "id": "cA9c5NvX8AgX"
      },
      "outputs": [],
      "source": [
        "# use every 40th point of the data as the training set and split it into the sub-training and validation sets\n",
        "step = 40\n",
        "trainDB = molDB[::step]\n",
        "val = trainDB[::10]\n",
        "sub = ml.molecular_database([mol for mol in trainDB if mol not in val])\n",
        "# setup the KREG model\n",
        "kreg = ml.models.kreg(model_file='KREG.npz', ml_program='KREG_API')\n",
        "# optimize its hyperparameters\n",
        "kreg.hyperparameters['sigma'].minval = 2**-5 # modify the default lower bound of the hyperparameter sigma\n",
        "kreg.optimize_hyperparameters(subtraining_molecular_database=sub,\n",
        "                                validation_molecular_database=val,\n",
        "                                optimization_algorithm='grid',\n",
        "                                hyperparameters=['lambda', 'sigma'],\n",
        "                                training_kwargs={'property_to_learn': 'delta_energy', 'prior': 0},\n",
        "                                prediction_kwargs={'property_to_predict': 'estimated_delta_energy'})\n",
        "lmbd = kreg.hyperparameters['lambda'].value ; sigma=kreg.hyperparameters['sigma'].value\n",
        "valloss = kreg.validation_loss\n",
        "print('Optimized sigma:', sigma)\n",
        "print('Optimized lambda:', lmbd)\n",
        "print('Optimized validation loss:', valloss)\n",
        "# Train the model with the optimized hyperparameters to dump it to disk.\n",
        "kreg.train(molecular_database=trainDB, property_to_learn='delta_energy')"
      ]
    },
    {
      "cell_type": "markdown",
      "metadata": {
        "id": "OdCg91wH8AgY"
      },
      "source": [
        "After we trained the KREG model, we can use it to estimate the delta corrections for the entire PEC and add them to the baseline predictions to obtain the delta-learning model estimates of the FCI energies:"
      ]
    },
    {
      "cell_type": "code",
      "execution_count": null,
      "metadata": {
        "id": "QZgbdMRH8Aga"
      },
      "outputs": [],
      "source": [
        "# predict the delta corrections with the trained KREG model\n",
        "kreg.predict(molecular_database=molDB, property_to_predict='KREG_delta_energy')\n",
        "# add them to the baseline values\n",
        "molDB.add_scalar_properties(molDB.get_properties('HF_energy') + molDB.get_properties('KREG_delta_energy'), 'FCI_energy_est')"
      ]
    },
    {
      "cell_type": "markdown",
      "metadata": {
        "id": "Hr0OQQry8Agb"
      },
      "source": [
        "Next, let's train the KREG model directly on the FCI data for comparison and use it for predicting the PEC."
      ]
    },
    {
      "cell_type": "code",
      "execution_count": null,
      "metadata": {
        "id": "0N4e0pzP8Agc"
      },
      "outputs": [],
      "source": [
        "# setup the KREG model\n",
        "kreg_fci = ml.models.kreg(model_file='KREG.npz', ml_program='KREG_API')\n",
        "# optimize its hyperparameters\n",
        "kreg_fci.hyperparameters['sigma'].minval = 2**-5 # modify the default lower bound of the hyperparameter sigma\n",
        "kreg_fci.optimize_hyperparameters(subtraining_molecular_database=sub,\n",
        "                                validation_molecular_database=val,\n",
        "                                optimization_algorithm='grid',\n",
        "                                hyperparameters=['lambda', 'sigma'],\n",
        "                                training_kwargs={'property_to_learn': 'FCI_energy', 'prior': 0},\n",
        "                                prediction_kwargs={'property_to_predict': 'estimated_FCI_energy'})\n",
        "lmbd = kreg_fci.hyperparameters['lambda'].value ; sigma=kreg_fci.hyperparameters['sigma'].value\n",
        "valloss = kreg_fci.validation_loss\n",
        "print('Optimized sigma:', sigma)\n",
        "print('Optimized lambda:', lmbd)\n",
        "print('Optimized validation loss:', valloss)\n",
        "# Train the model with the optimized hyperparameters to dump it to disk.\n",
        "kreg_fci.train(molecular_database=trainDB, property_to_learn='FCI_energy')\n",
        "# predict with the direct KREG model\n",
        "kreg_fci.predict(molecular_database=molDB, property_to_predict='KREG_FCI_energy')"
      ]
    },
    {
      "cell_type": "markdown",
      "metadata": {
        "id": "MTMl1Wne8Agd"
      },
      "source": [
        "Finally, let's check the results."
      ]
    },
    {
      "cell_type": "code",
      "execution_count": null,
      "metadata": {
        "id": "a3J6iJ3c8Agd"
      },
      "outputs": [],
      "source": [
        "# plot the energies\n",
        "plt.plot(xyz[:, 1, 2], molDB.get_properties('HF_energy'), label='HF/STO-3G')\n",
        "plt.plot(xyz[:, 1, 2], molDB.get_properties('FCI_energy'), label='FCI/cc-pVDZ')\n",
        "# plt.plot(xyz[:, 1, 2], molDB.get_properties('FCI_energy') - molDB.get_properties('HF_energy'), label='delta energy')\n",
        "# plt.plot(xyz[:, 1, 2], molDB.get_properties('KREG_delta_energy'), label='delta model')\n",
        "plt.plot(xyz[:, 1, 2], molDB.get_properties('FCI_energy_est'), label='delta-learning model')\n",
        "plt.plot(xyz[:, 1, 2], molDB.get_properties('KREG_FCI_energy'), label='direct KREG')\n",
        "plt.plot(sub.xyz_coordinates[:, 1, 2], sub.get_properties('FCI_energy'), 'o', label='sub-training points')\n",
        "plt.plot(val.xyz_coordinates[:, 1, 2], val.get_properties('FCI_energy'), 'o', label='validation points')\n",
        "plt.legend()\n",
        "plt.xlabel('H-H bond length (Å)')\n",
        "plt.ylabel('energy (hartree)')\n",
        "plt.show()"
      ]
    },
    {
      "cell_type": "markdown",
      "metadata": {
        "id": "vKh8atOX8Age"
      },
      "source": [
        "# Using delta-ML model in simulations"
      ]
    },
    {
      "cell_type": "code",
      "execution_count": null,
      "metadata": {
        "id": "ACfTgCeW8Age"
      },
      "outputs": [],
      "source": [
        "# first, define the baseline:\n",
        "baseline = ml.models.model_tree_node(name='baseline',\n",
        "                                     operator='predict',\n",
        "                                     model=hf)\n",
        "# second, define the correcting ML model, in this case the KREG model trained on the differences between full CI and HF\n",
        "delta_correction = ml.models.model_tree_node(name='delta_correction',\n",
        "                                             operator='predict',\n",
        "                                             model=kreg)\n",
        "# third, build the delta-model which would sum up the predictions by the baseline (HF) with the correction from ML\n",
        "delta_model = ml.models.model_tree_node(name='delta_model',\n",
        "                                        children=[baseline, delta_correction],\n",
        "                                        operator='sum')"
      ]
    },
    {
      "cell_type": "code",
      "execution_count": null,
      "metadata": {
        "id": "7RWVDuKm8Age"
      },
      "outputs": [],
      "source": [
        "# initial geometry\n",
        "initmol = ml.data.molecule.from_xyz_string('''2\n",
        "\n",
        "H             0.0000000000000           0.0000000000000           0.0000000000000\n",
        "H             0.0000000000000           0.0000000000000           0.8000000000000\n",
        "''')"
      ]
    },
    {
      "cell_type": "code",
      "execution_count": null,
      "metadata": {
        "id": "4ZwId1iv8Agf"
      },
      "outputs": [],
      "source": [
        "# Optimize the geometry with the delta-model as usual:\n",
        "geomopt = ml.optimize_geometry(model=delta_model, initial_molecule=initmol, program='geometric',)\n",
        "\n",
        "# Get the final geometry approximately at the full CI level\n",
        "final_mol = geomopt.optimized_molecule\n",
        "print('Optimized coordinates:')\n",
        "print(final_mol.get_xyz_string())\n",
        "final_mol.write_file_with_xyz_coordinates(filename='final.xyz')\n",
        "\n",
        "# Let's check how many full CI calculations, our delta-model saved us\n",
        "print('Number of optimization steps:', len(geomopt.optimization_trajectory.steps))"
      ]
    },
    {
      "cell_type": "code",
      "execution_count": null,
      "metadata": {
        "id": "T-1OCr_48Agf"
      },
      "outputs": [],
      "source": [
        "# let's see what is the final bond length of H2\n",
        "Rdelta = final_mol.internuclear_distance(0, 1)\n",
        "print(f'H2 bond length is {Rdelta} Angstrom')"
      ]
    },
    {
      "cell_type": "code",
      "execution_count": null,
      "metadata": {
        "id": "ZoGeXOnU8Agf"
      },
      "outputs": [],
      "source": []
    }
  ],
  "metadata": {
    "kernelspec": {
      "display_name": "Python 3 (ipykernel)",
      "language": "python",
      "name": "python3"
    },
    "language_info": {
      "codemirror_mode": {
        "name": "ipython",
        "version": 3
      },
      "file_extension": ".py",
      "mimetype": "text/x-python",
      "name": "python",
      "nbconvert_exporter": "python",
      "pygments_lexer": "ipython3",
      "version": "3.9.13"
    },
    "colab": {
      "provenance": []
    }
  },
  "nbformat": 4,
  "nbformat_minor": 0
}